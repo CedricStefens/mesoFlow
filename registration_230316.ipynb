{
 "cells": [
  {
   "cell_type": "markdown",
   "id": "52089aa0",
   "metadata": {},
   "source": [
    "# this run on a suite2p environment"
   ]
  },
  {
   "cell_type": "markdown",
   "id": "015ecae2",
   "metadata": {},
   "source": [
    "### imports"
   ]
  },
  {
   "cell_type": "code",
   "execution_count": 1,
   "id": "57817d55",
   "metadata": {
    "ExecuteTime": {
     "end_time": "2023-03-16T20:48:07.872799Z",
     "start_time": "2023-03-16T20:47:57.428722Z"
    }
   },
   "outputs": [],
   "source": [
    "import time\n",
    "import numpy as np\n",
    "import tqdm\n",
    "import suite2p\n",
    "\n",
    "from mesoFlow.IO import *\n",
    "from mesoFlow.movie import *\n",
    "from mesoFlow.mesoFlow import *"
   ]
  },
  {
   "cell_type": "markdown",
   "id": "ea9bea06",
   "metadata": {},
   "source": [
    "### select raw data"
   ]
  },
  {
   "cell_type": "code",
   "execution_count": 2,
   "id": "9918436c",
   "metadata": {
    "ExecuteTime": {
     "end_time": "2023-03-16T20:48:07.888757Z",
     "start_time": "2023-03-16T20:48:07.874794Z"
    }
   },
   "outputs": [
    {
     "data": {
      "text/plain": [
       "['C:/Users/cstefens/OneDrive - Imperial College London/data/mouse1_lateral_path2_256x512/movie-1.tif',\n",
       " 'C:/Users/cstefens/OneDrive - Imperial College London/data/mouse1_lateral_path2_256x512/movie-2.tif']"
      ]
     },
     "execution_count": 2,
     "metadata": {},
     "output_type": "execute_result"
    }
   ],
   "source": [
    "### set path\n",
    "# directory_path=\"/media/cstefens/data/data/test2_small\" #linux box\n",
    "directory_path=\"C:/Users/cstefens/OneDrive - Imperial College London/data/mouse1_lateral_path2_128x128\" #desktop\n",
    "directory_path=\"C:/Users/cstefens/OneDrive - Imperial College London/data/mouse1_lateral_path2_256x512\" #desktop\n",
    "getFilesPath(directory_path)"
   ]
  },
  {
   "cell_type": "code",
   "execution_count": 3,
   "id": "f5c59413",
   "metadata": {
    "ExecuteTime": {
     "end_time": "2023-03-16T20:48:07.919674Z",
     "start_time": "2023-03-16T20:48:07.889754Z"
    }
   },
   "outputs": [
    {
     "data": {
      "text/plain": [
       "['movie-1.tif', 'movie-2.tif']"
      ]
     },
     "execution_count": 3,
     "metadata": {},
     "output_type": "execute_result"
    }
   ],
   "source": [
    "### list files in a directory\n",
    "os.listdir(directory_path)"
   ]
  },
  {
   "cell_type": "markdown",
   "id": "e3a46a89",
   "metadata": {},
   "source": [
    "### set parameters and options"
   ]
  },
  {
   "cell_type": "code",
   "execution_count": 4,
   "id": "abdb6b2b",
   "metadata": {
    "ExecuteTime": {
     "end_time": "2023-03-16T20:48:07.934634Z",
     "start_time": "2023-03-16T20:48:07.922666Z"
    }
   },
   "outputs": [],
   "source": [
    "# load default params\n",
    "ops = suite2p.default_ops() \n",
    "ops[\"rescale_reg_tif\"]=1.0,1.0,1.0 #default value\n",
    "#ops #print default parameters"
   ]
  },
  {
   "cell_type": "code",
   "execution_count": 5,
   "id": "46232867",
   "metadata": {
    "ExecuteTime": {
     "end_time": "2023-03-16T20:48:07.949595Z",
     "start_time": "2023-03-16T20:48:07.936629Z"
    }
   },
   "outputs": [],
   "source": [
    "# modify default ops: set for registration only and save downsampled tiff\n",
    " \n",
    "#Now, the motion corrected movie is saved as .bin and .tiff (option to resize tiff)\n",
    "# TODO option to keep registered movie as bin file and/or tiff\n",
    "\n",
    "ops[\"fs\"]=7.66 #use getFpsScanImage(fname) on tif from scanImage\n",
    "ops[\"tau\"]=1.25 # timescale of the sensor (in seconds)\n",
    "                #     0.7 for GCaMP6f\n",
    "                #     1.0 for GCaMP6m\n",
    "                #     1.25-1.5 for GCaMP6s\n",
    "ops[\"roidetect\"]=False # False for registration only\n",
    "ops[\"do_bidiphase\"]=True # compute bidirectional phase offset from misaligned line scanning \n",
    "ops[\"reg_tif\"]=True #save registered tiffs\n",
    "ops[\"rescale_reg_tif\"]=0.5,0.5,0.1 #fx,fy,fz ratio for resizing registered tiff, for inspection/display purpose"
   ]
  },
  {
   "cell_type": "markdown",
   "id": "a837bfc3",
   "metadata": {},
   "source": [
    "### pipeline"
   ]
  },
  {
   "cell_type": "code",
   "execution_count": 6,
   "id": "f16cd92f",
   "metadata": {
    "ExecuteTime": {
     "end_time": "2023-03-16T20:56:23.002849Z",
     "start_time": "2023-03-16T20:48:07.951591Z"
    },
    "scrolled": true
   },
   "outputs": [
    {
     "name": "stdout",
     "output_type": "stream",
     "text": [
      ">>>>>> C:/Users/cstefens/OneDrive - Imperial College London/data/mouse1_lateral_path2_256x512\n",
      "C:/Users/cstefens/OneDrive - Imperial College London/data/mouse1_lateral_path2_256x512\n",
      "1  /  2\n",
      "2  /  2\n",
      "(2170, 256, 128) uint16\n",
      "200 frames saved\n",
      "400 frames saved\n",
      "600 frames saved\n",
      "800 frames saved\n",
      "1000 frames saved\n",
      "1200 frames saved\n",
      "1400 frames saved\n",
      "1600 frames saved\n",
      "1800 frames saved\n",
      "2000 frames saved\n",
      "(2170, 256, 128) uint16\n",
      "\n",
      ">>>save downsampled raw tiff  0.1  minutes\n",
      "\n",
      "{}\n",
      "tif\n",
      "** Found 2 tifs - converting to binary **\n",
      "2000 frames of binary, time 5.62 sec.\n",
      "4000 frames of binary, time 8.64 sec.\n",
      "6000 frames of binary, time 12.49 sec.\n",
      "8000 frames of binary, time 15.85 sec.\n",
      "10000 frames of binary, time 19.48 sec.\n",
      "12000 frames of binary, time 26.17 sec.\n",
      "14000 frames of binary, time 29.99 sec.\n",
      "16000 frames of binary, time 35.05 sec.\n",
      "18000 frames of binary, time 39.64 sec.\n",
      "20000 frames of binary, time 44.08 sec.\n",
      "time 47.58 sec. Wrote 21700 frames per binary for 1 planes\n",
      ">>>>>>>>>>>>>>>>>>>>> PLANE 0 <<<<<<<<<<<<<<<<<<<<<<\n",
      "NOTE: not registered / registration forced with ops['do_registration']>1\n",
      "      (no previous offsets to delete)\n",
      "NOTE: applying default C:\\Users\\cstefens\\.suite2p\\classifiers\\classifier_user.npy\n",
      "----------- REGISTRATION\n",
      "NOTE: estimated bidiphase offset from data: 2 pixels\n",
      "Reference frame, 8.83 sec.\n",
      "Registered 500/21700 in 7.79s\n",
      "Registered 1000/21700 in 15.47s\n",
      "Registered 1500/21700 in 22.67s\n",
      "Registered 2000/21700 in 30.42s\n",
      "Registered 2500/21700 in 39.09s\n",
      "Registered 3000/21700 in 46.65s\n",
      "Registered 3500/21700 in 55.23s\n",
      "Registered 4000/21700 in 64.51s\n",
      "Registered 4500/21700 in 73.25s\n",
      "Registered 5000/21700 in 81.92s\n",
      "Registered 5500/21700 in 90.64s\n",
      "Registered 6000/21700 in 99.60s\n",
      "Registered 6500/21700 in 108.01s\n",
      "Registered 7000/21700 in 116.81s\n",
      "Registered 7500/21700 in 126.73s\n",
      "Registered 8000/21700 in 133.95s\n",
      "Registered 8500/21700 in 142.59s\n",
      "Registered 9000/21700 in 152.44s\n",
      "Registered 9500/21700 in 161.60s\n",
      "Registered 10000/21700 in 171.66s\n",
      "Registered 10500/21700 in 180.61s\n",
      "Registered 11000/21700 in 189.96s\n",
      "Registered 11500/21700 in 199.73s\n",
      "Registered 12000/21700 in 209.27s\n",
      "Registered 12500/21700 in 219.17s\n",
      "Registered 13000/21700 in 228.71s\n",
      "Registered 13500/21700 in 238.04s\n",
      "Registered 14000/21700 in 246.20s\n",
      "Registered 14500/21700 in 255.03s\n",
      "Registered 15000/21700 in 265.23s\n",
      "Registered 15500/21700 in 275.53s\n",
      "Registered 16000/21700 in 284.53s\n",
      "Registered 16500/21700 in 293.21s\n",
      "Registered 17000/21700 in 305.07s\n",
      "Registered 17500/21700 in 316.38s\n",
      "Registered 18000/21700 in 326.42s\n",
      "Registered 18500/21700 in 336.95s\n",
      "Registered 19000/21700 in 347.82s\n",
      "Registered 19500/21700 in 358.13s\n",
      "Registered 20000/21700 in 368.62s\n",
      "Registered 20500/21700 in 379.49s\n",
      "Registered 21000/21700 in 390.07s\n",
      "Registered 21500/21700 in 399.69s\n",
      "Registered 21700/21700 in 402.88s\n",
      "----------- Total 416.68 sec\n",
      "Registration metrics, 15.25 sec.\n",
      "WARNING: skipping cell detection (ops['roidetect']=False)\n",
      "Plane 0 processed in 432.17 sec (can open in GUI).\n",
      "total = 479.88 sec.\n",
      "TOTAL RUNTIME 479.88 sec\n",
      "\n",
      ">>>suite2p registration  8.0  minutes\n",
      "\n"
     ]
    },
    {
     "name": "stderr",
     "output_type": "stream",
     "text": [
      "100%|██████████| 44/44 [00:08<00:00,  5.43it/s]\n"
     ]
    },
    {
     "name": "stdout",
     "output_type": "stream",
     "text": [
      "200 frames saved\n",
      "400 frames saved\n",
      "600 frames saved\n",
      "800 frames saved\n",
      "1000 frames saved\n",
      "1200 frames saved\n",
      "1400 frames saved\n",
      "1600 frames saved\n",
      "1800 frames saved\n",
      "2000 frames saved\n",
      "\n",
      ">>>downsampled registered tiff  0.15  minutes\n",
      "\n",
      "\n",
      "total time  8.25  minutes\n",
      "\n"
     ]
    }
   ],
   "source": [
    "print(\">>>>>> \"+directory_path)\n",
    "t0_tot=time.time()\n",
    "\n",
    "# option: save downsampled raw tiff\n",
    "t0=time.time()\n",
    "if not ops[\"rescale_reg_tif\"] == (1.0, 1.0, 1.0):\n",
    "    fxy=ops[\"rescale_reg_tif\"][0]\n",
    "    fz=ops[\"rescale_reg_tif\"][2]\n",
    "    generateDownsampledRawMovie([directory_path],fxy,fz)\n",
    "print(\"\\n>>>save downsampled raw tiff \",np.round((time.time()-t0)/60.0,2), \" minutes\\n\")\n",
    "\n",
    "# # TODO option: measure lines offset across time and apply correction\n",
    "# t0=time.time()\n",
    "# print(\"\\n>>>measure line offset across time \",np.round((time.time()-t0)/60.0,2), \" minutes\\n\")\n",
    "\n",
    "# run suite2p registration\n",
    "t0=time.time()\n",
    "ops_reg=run_suite2p(ops,directory_path)\n",
    "print(\"\\n>>>suite2p registration \",np.round((time.time()-t0)/60.0,2), \" minutes\\n\")\n",
    "\n",
    "# option: downsampled registered tiff\n",
    "t0=time.time()\n",
    "if not ops[\"rescale_reg_tif\"] == (1.0, 1.0, 1.0):\n",
    "    downsampleTiffs(ops_reg[\"save_path\"]+\"/reg_tif\",ops[\"rescale_reg_tif\"])\n",
    "    fname=concatenateTiffs_suite2p(ops_reg[\"save_path\"]+\"/reg_tif\")\n",
    "print(\"\\n>>>downsampled registered tiff \",np.round((time.time()-t0)/60.0,2), \" minutes\\n\")\n",
    "\n",
    "print(\"\\ntotal time \",np.round((time.time()-t0_tot)/60.0,2), \" minutes\\n\")"
   ]
  },
  {
   "cell_type": "code",
   "execution_count": null,
   "id": "b498f594",
   "metadata": {},
   "outputs": [],
   "source": []
  }
 ],
 "metadata": {
  "kernelspec": {
   "display_name": "Python 3 (ipykernel)",
   "language": "python",
   "name": "python3"
  },
  "language_info": {
   "codemirror_mode": {
    "name": "ipython",
    "version": 3
   },
   "file_extension": ".py",
   "mimetype": "text/x-python",
   "name": "python",
   "nbconvert_exporter": "python",
   "pygments_lexer": "ipython3",
   "version": "3.8.15"
  }
 },
 "nbformat": 4,
 "nbformat_minor": 5
}
